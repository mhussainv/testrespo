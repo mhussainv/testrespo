{
 "cells": [
  {
   "cell_type": "markdown",
   "id": "5534c5d5",
   "metadata": {},
   "source": [
    "# Week 1- Python Basics"
   ]
  },
  {
   "cell_type": "code",
   "execution_count": 1,
   "id": "155372a5",
   "metadata": {
    "scrolled": true
   },
   "outputs": [
    {
     "name": "stdout",
     "output_type": "stream",
     "text": [
      "Hello world\n"
     ]
    }
   ],
   "source": [
    "# print a message\n",
    "print(\"Hello world\") # print statement is the output statement of python"
   ]
  },
  {
   "cell_type": "code",
   "execution_count": 2,
   "id": "ccf5536c",
   "metadata": {},
   "outputs": [
    {
     "name": "stdout",
     "output_type": "stream",
     "text": [
      "this is a single line commment\n",
      "This is second statement\n",
      "- multi line\n"
     ]
    }
   ],
   "source": [
    "# This is a single line comment\n",
    "print(\"this is a single line commment\")\n",
    "\n",
    "'''this is an example for a multi-line \n",
    "comment\n",
    "'''\n",
    "print('''This is second statement\n",
    "- multi line''')"
   ]
  },
  {
   "cell_type": "markdown",
   "id": "11eeffc7",
   "metadata": {},
   "source": [
    "# variables and data types"
   ]
  },
  {
   "cell_type": "code",
   "execution_count": 3,
   "id": "2f0c84a7",
   "metadata": {},
   "outputs": [
    {
     "name": "stdout",
     "output_type": "stream",
     "text": [
      "The value of x is 10\n",
      "The data type of this varriable is <class 'int'>\n"
     ]
    }
   ],
   "source": [
    "# Demonstrate variables and data types\n",
    "x = 10 # the value 10 stored at memory location x. x is called a variable\n",
    "print ( \"The value of x is\",x)\n",
    "print(\"The data type of this varriable is\",type(x))\n"
   ]
  },
  {
   "cell_type": "code",
   "execution_count": 4,
   "id": "827ca764",
   "metadata": {},
   "outputs": [
    {
     "name": "stdout",
     "output_type": "stream",
     "text": [
      "the new value of x is 20.786\n",
      "data type is <class 'float'>\n"
     ]
    }
   ],
   "source": [
    "x = 20.786\n",
    "print(\"the new value of x is\",x)\n",
    "print(\"data type is\",type(x))"
   ]
  },
  {
   "cell_type": "code",
   "execution_count": 5,
   "id": "da67e109",
   "metadata": {},
   "outputs": [
    {
     "name": "stdout",
     "output_type": "stream",
     "text": [
      "the new value of x is (5+3j)\n",
      "data type is <class 'complex'>\n"
     ]
    }
   ],
   "source": [
    "x = 5+3j\n",
    "print(\"the new value of x is\",x)\n",
    "print (\"data type is\",type(x))"
   ]
  },
  {
   "cell_type": "markdown",
   "id": "bdbb0e27",
   "metadata": {},
   "source": [
    "# strings"
   ]
  },
  {
   "cell_type": "code",
   "execution_count": 6,
   "id": "0e0553b0",
   "metadata": {},
   "outputs": [
    {
     "name": "stdout",
     "output_type": "stream",
     "text": [
      "Welcome to python programming\n"
     ]
    }
   ],
   "source": [
    "# string with single qoute\n",
    "str1 = 'Welcome to python programming'\n",
    "print(str1)"
   ]
  },
  {
   "cell_type": "code",
   "execution_count": 7,
   "id": "f72e90ec",
   "metadata": {},
   "outputs": [
    {
     "name": "stdout",
     "output_type": "stream",
     "text": [
      "Welome to python programming\n"
     ]
    }
   ],
   "source": [
    "# with double qoute\n",
    "str2 = \"Welome to python programming\"\n",
    "print(str2)"
   ]
  },
  {
   "cell_type": "code",
   "execution_count": 8,
   "id": "170f09e4",
   "metadata": {},
   "outputs": [
    {
     "name": "stdout",
     "output_type": "stream",
     "text": [
      " \n",
      "        welcome to python\n",
      "            programming\n",
      "the data type of str1, str2 and str3 are  <class 'type'>\n"
     ]
    }
   ],
   "source": [
    "# with multi linw\n",
    "str3 = ''' \n",
    "        welcome to python\n",
    "            programming'''\n",
    "print(str3)\n",
    "print ('''the data type of str1, str2 and str3 are ''',type(str))"
   ]
  },
  {
   "cell_type": "markdown",
   "id": "3c1f98e1",
   "metadata": {},
   "source": [
    "# Bool data types"
   ]
  },
  {
   "cell_type": "code",
   "execution_count": 9,
   "id": "aa3f1d49",
   "metadata": {},
   "outputs": [
    {
     "name": "stdout",
     "output_type": "stream",
     "text": [
      "the value of flag is True\n",
      "the data type is <class 'bool'>\n"
     ]
    }
   ],
   "source": [
    "flag = True\n",
    "print('the value of flag is',flag)\n",
    "print(\"the data type is\",type(flag))"
   ]
  },
  {
   "cell_type": "code",
   "execution_count": 10,
   "id": "86abf254",
   "metadata": {},
   "outputs": [
    {
     "name": "stdout",
     "output_type": "stream",
     "text": [
      "the changed value of flag is False\n"
     ]
    }
   ],
   "source": [
    "flag = False\n",
    "print ('the changed value of flag is', flag)"
   ]
  },
  {
   "cell_type": "markdown",
   "id": "f3dc35b4",
   "metadata": {},
   "source": [
    "## Arithemetic operators"
   ]
  },
  {
   "cell_type": "code",
   "execution_count": 11,
   "id": "16e239d6",
   "metadata": {},
   "outputs": [
    {
     "name": "stdout",
     "output_type": "stream",
     "text": [
      "The value of x is  10\n",
      "the value of x after adding 2 is 12\n"
     ]
    }
   ],
   "source": [
    "x = 10\n",
    "print(\"The value of x is \",x)\n",
    "\n",
    "x = x+2\n",
    "print (\"the value of x after adding 2 is\",x)"
   ]
  },
  {
   "cell_type": "code",
   "execution_count": 12,
   "id": "17faee45",
   "metadata": {},
   "outputs": [
    {
     "name": "stdout",
     "output_type": "stream",
     "text": [
      "value of z= 9\n",
      "data type is <class 'int'>\n"
     ]
    }
   ],
   "source": [
    "y = 3\n",
    "z = x-y\n",
    "print (\"value of z=\",z)\n",
    "print (\"data type is\",type(z))"
   ]
  },
  {
   "cell_type": "code",
   "execution_count": 13,
   "id": "59f0fa37",
   "metadata": {},
   "outputs": [
    {
     "name": "stdout",
     "output_type": "stream",
     "text": [
      "the new value of y= 6\n"
     ]
    }
   ],
   "source": [
    "y = y*2\n",
    "print(\"the new value of y=\",y)"
   ]
  },
  {
   "cell_type": "code",
   "execution_count": 14,
   "id": "5d8777f0",
   "metadata": {},
   "outputs": [
    {
     "name": "stdout",
     "output_type": "stream",
     "text": [
      "the new value of z is 2.4\n",
      "data type is <class 'float'>\n"
     ]
    }
   ],
   "source": [
    "z=x/5\n",
    "print (\"the new value of z is\",z)\n",
    "print (\"data type is\",type(z))"
   ]
  },
  {
   "cell_type": "code",
   "execution_count": 15,
   "id": "9d924663",
   "metadata": {},
   "outputs": [
    {
     "name": "stdout",
     "output_type": "stream",
     "text": [
      "the integer value of y is 2\n",
      "data type is <class 'int'>\n"
     ]
    }
   ],
   "source": [
    "y = x//5 # integer division\n",
    "print(\"the integer value of y is\",y)\n",
    "print(\"data type is\",type(y))"
   ]
  },
  {
   "cell_type": "code",
   "execution_count": 16,
   "id": "9c876510",
   "metadata": {},
   "outputs": [
    {
     "name": "stdout",
     "output_type": "stream",
     "text": [
      "modulo is reminder, z= 1\n"
     ]
    }
   ],
   "source": [
    "x = 13\n",
    "z=x % 2 #the modulo operator\n",
    "print(\"modulo is reminder, z=\",z)"
   ]
  },
  {
   "cell_type": "code",
   "execution_count": 17,
   "id": "4a91d338",
   "metadata": {},
   "outputs": [
    {
     "name": "stdout",
     "output_type": "stream",
     "text": [
      "the resultant z is 8\n"
     ]
    }
   ],
   "source": [
    "# exponentiation operator\n",
    "x=2\n",
    "y=3\n",
    "z=x**y\n",
    "print(\"the resultant z is\",z)"
   ]
  },
  {
   "cell_type": "code",
   "execution_count": 18,
   "id": "a83affb0",
   "metadata": {},
   "outputs": [
    {
     "ename": "NameError",
     "evalue": "name 'a' is not defined",
     "output_type": "error",
     "traceback": [
      "\u001b[1;31m---------------------------------------------------------------------------\u001b[0m",
      "\u001b[1;31mNameError\u001b[0m                                 Traceback (most recent call last)",
      "Input \u001b[1;32mIn [18]\u001b[0m, in \u001b[0;36m<cell line: 2>\u001b[1;34m()\u001b[0m\n\u001b[0;32m      1\u001b[0m \u001b[38;5;66;03m# expressions\u001b[39;00m\n\u001b[1;32m----> 2\u001b[0m \u001b[43ma\u001b[49m \u001b[38;5;241m+\u001b[39m b\n",
      "\u001b[1;31mNameError\u001b[0m: name 'a' is not defined"
     ]
    }
   ],
   "source": [
    "# expressions\n",
    "a + b # a and b called operants, + is binary operator"
   ]
  },
  {
   "cell_type": "markdown",
   "id": "f20d440e",
   "metadata": {},
   "source": [
    "# unary operator"
   ]
  },
  {
   "cell_type": "markdown",
   "id": "a72a5d68",
   "metadata": {},
   "source": [
    "## PEMDAS Rule : paranthesis, exponent. multi and div, add and sub"
   ]
  },
  {
   "cell_type": "code",
   "execution_count": 19,
   "id": "ccd02414",
   "metadata": {},
   "outputs": [
    {
     "name": "stdout",
     "output_type": "stream",
     "text": [
      "x= 10 y= -10\n"
     ]
    }
   ],
   "source": [
    "x=10\n",
    "y= -x\n",
    "print ('x=',x,'y=',y)"
   ]
  },
  {
   "cell_type": "code",
   "execution_count": 20,
   "id": "b5ac54a8",
   "metadata": {},
   "outputs": [
    {
     "name": "stdout",
     "output_type": "stream",
     "text": [
      "the result is 35.0\n"
     ]
    }
   ],
   "source": [
    "x=10\n",
    "y=20\n",
    "z=30\n",
    "res = x**2/y+z\n",
    "print('the result is',res)"
   ]
  },
  {
   "cell_type": "markdown",
   "id": "fa7e3a35",
   "metadata": {},
   "source": [
    "## Assignment operators : =,+=,-=,/=,*=,//=,%=,**="
   ]
  },
  {
   "cell_type": "code",
   "execution_count": 21,
   "id": "0efad557",
   "metadata": {
    "scrolled": true
   },
   "outputs": [
    {
     "name": "stdout",
     "output_type": "stream",
     "text": [
      "2\n"
     ]
    }
   ],
   "source": [
    "# Example\n",
    "x=2\n",
    "y=x\n",
    "print(y)"
   ]
  },
  {
   "cell_type": "code",
   "execution_count": 22,
   "id": "3c0cb1b2",
   "metadata": {},
   "outputs": [
    {
     "name": "stdout",
     "output_type": "stream",
     "text": [
      "5\n"
     ]
    }
   ],
   "source": [
    "x+=3 # x+= means x= x=3\n",
    "print(x)"
   ]
  },
  {
   "cell_type": "code",
   "execution_count": 23,
   "id": "f2e619e8",
   "metadata": {},
   "outputs": [
    {
     "name": "stdout",
     "output_type": "stream",
     "text": [
      "20\n"
     ]
    }
   ],
   "source": [
    "x*=4\n",
    "print(x)"
   ]
  },
  {
   "cell_type": "code",
   "execution_count": 24,
   "id": "4f2948cf",
   "metadata": {},
   "outputs": [
    {
     "name": "stdout",
     "output_type": "stream",
     "text": [
      "400\n"
     ]
    }
   ],
   "source": [
    "x**=2\n",
    "print(x)"
   ]
  },
  {
   "cell_type": "code",
   "execution_count": 25,
   "id": "5783645a",
   "metadata": {},
   "outputs": [
    {
     "name": "stdout",
     "output_type": "stream",
     "text": [
      "10.0\n"
     ]
    }
   ],
   "source": [
    "x/=40\n",
    "print(x)"
   ]
  },
  {
   "cell_type": "code",
   "execution_count": 26,
   "id": "5a3c86df",
   "metadata": {},
   "outputs": [
    {
     "name": "stdout",
     "output_type": "stream",
     "text": [
      "3.0\n"
     ]
    }
   ],
   "source": [
    "x//=3\n",
    "print(x)"
   ]
  },
  {
   "cell_type": "code",
   "execution_count": 28,
   "id": "9e30a46d",
   "metadata": {},
   "outputs": [
    {
     "name": "stdout",
     "output_type": "stream",
     "text": [
      "2\n"
     ]
    }
   ],
   "source": [
    "x= 17\n",
    "x%=5\n",
    "print(x)"
   ]
  },
  {
   "cell_type": "markdown",
   "id": "9794b582",
   "metadata": {},
   "source": [
    "## Input() statement"
   ]
  },
  {
   "cell_type": "code",
   "execution_count": 30,
   "id": "3fae3f67",
   "metadata": {},
   "outputs": [
    {
     "name": "stdout",
     "output_type": "stream",
     "text": [
      "Enter your name :Hussain\n",
      "hello Hussain\n"
     ]
    }
   ],
   "source": [
    "str1= input('Enter your name :')\n",
    "print(\"hello\",str1)"
   ]
  },
  {
   "cell_type": "code",
   "execution_count": 3,
   "id": "29277e5e",
   "metadata": {},
   "outputs": [
    {
     "name": "stdout",
     "output_type": "stream",
     "text": [
      "Enter the fisrt number :10\n",
      "Enter the second number:20\n",
      "sum the of the given numbers are 30\n"
     ]
    }
   ],
   "source": [
    "# sum of two numbers\n",
    "num1 = int(input(\"Enter the fisrt number :\"))\n",
    "num2 =int (input(\"Enter the second number:\"))\n",
    "res= num1+num2\n",
    "print(\"sum the of the given numbers are\",res)"
   ]
  },
  {
   "cell_type": "code",
   "execution_count": 5,
   "id": "dbf260dd",
   "metadata": {},
   "outputs": [
    {
     "name": "stdout",
     "output_type": "stream",
     "text": [
      "Enter the radius of circle : 3\n",
      "Area = 28.26 circuference= 18.84\n"
     ]
    }
   ],
   "source": [
    "# Area and cicumference of circle\n",
    "radius = float(input('Enter the radius of circle : '))\n",
    "area = 3.14*radius**2\n",
    "circum = 2*3.14*radius\n",
    "print(\"Area =\",area,\"circuference=\",circum)\n"
   ]
  },
  {
   "cell_type": "code",
   "execution_count": 6,
   "id": "13db5979",
   "metadata": {},
   "outputs": [
    {
     "name": "stdout",
     "output_type": "stream",
     "text": [
      "apple is goodbut mango is tasty\n",
      "apple is good but mango is tasty\n"
     ]
    }
   ],
   "source": [
    "# various operations on string, once defined can only be rewriiten fully\n",
    "# it cannot be partially changed\n",
    "str1= \"apple is good\"\n",
    "str2 = \"but mango is tasty\"\n",
    "print(str1 + str2)\n",
    "print(str1+ ' '+ str2 )\n"
   ]
  },
  {
   "cell_type": "code",
   "execution_count": 19,
   "id": "72bdee22",
   "metadata": {},
   "outputs": [
    {
     "name": "stdout",
     "output_type": "stream",
     "text": [
      "APPLE IS GOOD\n",
      "apple is good\n",
      "APPLE IS GOOD   Apple Is Good   ['apple', 'is', 'good']\n",
      "pple is good\n",
      "apple is goo\n"
     ]
    }
   ],
   "source": [
    "print(str1.upper())\n",
    "print(str1)\n",
    "str3 = str1.upper()\n",
    "str4 = str1.title()\n",
    "str5 = str1.split()\n",
    "print(str3,' ',str4,' ',str5)\n",
    "str6 = str1.lstrip('a')\n",
    "print(str6)\n",
    "print(str1.rstrip(\"d\"))"
   ]
  },
  {
   "cell_type": "code",
   "execution_count": 29,
   "id": "c7c42b9e",
   "metadata": {},
   "outputs": [
    {
     "name": "stdout",
     "output_type": "stream",
     "text": [
      "but mango is tasty\n",
      "True\n",
      "False\n",
      "False\n",
      "False\n",
      "The string2 starts with but True\n",
      "the string2 ends with tasty True\n"
     ]
    }
   ],
   "source": [
    "#operation on string\n",
    "print(str2)\n",
    "print(str2.islower())\n",
    "print(str2.isupper())\n",
    "print(str2.istitle())\n",
    "print(str2.isdigit())\n",
    "print(\"The string2 starts with but\", str2.startswith(\"but\"))\n",
    "print(\"the string2 ends with tasty\",str2.endswith('tasty'))"
   ]
  },
  {
   "cell_type": "code",
   "execution_count": 30,
   "id": "4b27916b",
   "metadata": {},
   "outputs": [
    {
     "name": "stdout",
     "output_type": "stream",
     "text": [
      "13 18\n"
     ]
    }
   ],
   "source": [
    "print (len(str1),len(str2))"
   ]
  },
  {
   "cell_type": "code",
   "execution_count": 38,
   "id": "f7e58b0d",
   "metadata": {},
   "outputs": [
    {
     "name": "stdout",
     "output_type": "stream",
     "text": [
      "apple is good,but mango is tasty\n",
      "ytsat si ognam tub,doog si elppa\n",
      "apei odbtmnoi at\n",
      "le is g\n",
      "d\n",
      "apple was good,but mango was tasty\n"
     ]
    }
   ],
   "source": [
    "str7 = str1+\",\"+str2\n",
    "print(str7)\n",
    "print(str7[::-1])\n",
    "print(str7[::2])\n",
    "print(str7[3:10])\n",
    "print(str7[12])\n",
    "print(str7.replace('is','was'))"
   ]
  },
  {
   "cell_type": "code",
   "execution_count": 43,
   "id": "2a00d3e6",
   "metadata": {},
   "outputs": [
    {
     "name": "stdout",
     "output_type": "stream",
     "text": [
      "H\n",
      "e\n",
      "l\n",
      "l\n",
      "o\n",
      " \n",
      "w\n",
      "o\n",
      "r\n",
      "l\n",
      "d\n"
     ]
    }
   ],
   "source": [
    "str8 = \"Hello world\"\n",
    "for i in str8:\n",
    "    print(i)"
   ]
  },
  {
   "cell_type": "code",
   "execution_count": 44,
   "id": "c835cd8a",
   "metadata": {},
   "outputs": [
    {
     "name": "stdout",
     "output_type": "stream",
     "text": [
      "(0, 'H')\n",
      "(1, 'e')\n",
      "(2, 'l')\n",
      "(3, 'l')\n",
      "(4, 'o')\n",
      "(5, ' ')\n",
      "(6, 'w')\n",
      "(7, 'o')\n",
      "(8, 'r')\n",
      "(9, 'l')\n",
      "(10, 'd')\n"
     ]
    }
   ],
   "source": [
    "for i in enumerate(str8):\n",
    "    print(i)"
   ]
  },
  {
   "cell_type": "markdown",
   "id": "0e77791f",
   "metadata": {},
   "source": [
    "## strings"
   ]
  },
  {
   "cell_type": "code",
   "execution_count": 58,
   "id": "2246ef68",
   "metadata": {},
   "outputs": [
    {
     "name": "stdout",
     "output_type": "stream",
     "text": [
      "banana\n",
      "the third charactor is n\n",
      "bana\n",
      "ban\n",
      "ana\n",
      "banana\n"
     ]
    }
   ],
   "source": [
    "# Assecing a subset of charactor\n",
    "str1 = \"banana\"\n",
    "print(str1)\n",
    "print (\"the third charactor is\",str1[4])\n",
    "print(str1[0:4])\n",
    "print(str1[:3])\n",
    "print(str1[3:])\n",
    "print(str1[:])"
   ]
  },
  {
   "cell_type": "code",
   "execution_count": 60,
   "id": "0a96e63d",
   "metadata": {},
   "outputs": [
    {
     "name": "stdout",
     "output_type": "stream",
     "text": [
      "Hello worldHello worldHello worldHello worldHello world\n"
     ]
    }
   ],
   "source": [
    "#Repeat\n",
    "str2=\"Hello world\"\n",
    "print(str2*5)"
   ]
  },
  {
   "cell_type": "code",
   "execution_count": 6,
   "id": "df5887a2",
   "metadata": {},
   "outputs": [
    {
     "name": "stdout",
     "output_type": "stream",
     "text": [
      "the original string is welcome, to the exciting world, python programming\n",
      "the split using comma: ['welcome', ' to the exciting world', ' python programming']\n",
      "the split using space: ['welcome,', 'to', 'the', 'exciting', 'world,', 'python', 'programming']\n"
     ]
    }
   ],
   "source": [
    "# split\n",
    "str_1= \"welcome, to the exciting world, python programming\"\n",
    "print('the original string is',str_1)\n",
    "print('the split using comma:',str_1.split(','))\n",
    "print('the split using space:',str_1.split(' '))"
   ]
  },
  {
   "cell_type": "code",
   "execution_count": 16,
   "id": "0b8d1c6b",
   "metadata": {},
   "outputs": [
    {
     "name": "stdout",
     "output_type": "stream",
     "text": [
      "The number of letter m in the str_2 is 3\n",
      "welcome*to*the*exciting*world*python*programming\n",
      "welcome to the exciting world R programming\n",
      "11\n",
      "-1\n"
     ]
    }
   ],
   "source": [
    "# count opreration\n",
    "str_2 = \"welcome to the exciting world python programming\"\n",
    "print('The number of letter m in the str_2 is',str_2.count('m'))\n",
    "\n",
    "# Replace operation\n",
    "print(str_2.replace(' ','*'))\n",
    "print(str_2.replace('python','R'))\n",
    "\n",
    "#find operation\n",
    "print(str_2.find('the'))\n",
    "print(str_2.find('bye'))"
   ]
  },
  {
   "cell_type": "code",
   "execution_count": 27,
   "id": "5156ef99",
   "metadata": {},
   "outputs": [
    {
     "name": "stdout",
     "output_type": "stream",
     "text": [
      "False\n",
      "True\n"
     ]
    }
   ],
   "source": [
    "# string comparison\n",
    "str1 = 'hussain'\n",
    "str2 = 'abi'\n",
    "print(str1==str2)\n",
    "print(str1!=str2)\n"
   ]
  },
  {
   "cell_type": "code",
   "execution_count": 31,
   "id": "d5d4b2e1",
   "metadata": {},
   "outputs": [
    {
     "name": "stdout",
     "output_type": "stream",
     "text": [
      "str1 starts with H  True\n",
      "str1 ends with i  False\n"
     ]
    }
   ],
   "source": [
    "# startswith operation\n",
    "print('str1 starts with H ',str1.startswith('h'))\n",
    "\n",
    "# endswith operation\n",
    "print('str1 ends with i ',str1.endswith('i'))"
   ]
  },
  {
   "cell_type": "code",
   "execution_count": 35,
   "id": "897b2732",
   "metadata": {},
   "outputs": [
    {
     "name": "stdout",
     "output_type": "stream",
     "text": [
      "False\n",
      "True\n",
      "False\n"
     ]
    }
   ],
   "source": [
    "# istitle operation\n",
    "print(str1.istitle())\n",
    "\n",
    "#islower , isupper operation\n",
    "\n",
    "print(str1.islower())\n",
    "print(str1.isupper())"
   ]
  },
  {
   "cell_type": "code",
   "execution_count": 38,
   "id": "bb47d0f3",
   "metadata": {},
   "outputs": [
    {
     "name": "stdout",
     "output_type": "stream",
     "text": [
      "True\n",
      "HUSSAIN\n"
     ]
    }
   ],
   "source": [
    "# isalpha, isnum, isalpnum\n",
    "\n",
    "print(str1.isalpha())\n",
    "\n",
    "# convert to upper or lower\n",
    "print(str1.upper())"
   ]
  },
  {
   "cell_type": "code",
   "execution_count": 1,
   "id": "eda4e080",
   "metadata": {},
   "outputs": [
    {
     "name": "stdout",
     "output_type": "stream",
     "text": [
      "Good Morning\n"
     ]
    }
   ],
   "source": [
    "# convert to title\n",
    "str10 = \"good morning\"\n",
    "print(str10.title())\n"
   ]
  },
  {
   "cell_type": "code",
   "execution_count": 5,
   "id": "99a6b51e",
   "metadata": {},
   "outputs": [
    {
     "name": "stdout",
     "output_type": "stream",
     "text": [
      "gOOD mORNING\n"
     ]
    }
   ],
   "source": [
    "# swap case\n",
    "str11 = \"Good Morning\"\n",
    "print(str11.swapcase())"
   ]
  },
  {
   "cell_type": "code",
   "execution_count": 7,
   "id": "4fd0d0a4",
   "metadata": {},
   "outputs": [
    {
     "name": "stdout",
     "output_type": "stream",
     "text": [
      "   hello world   \n",
      "hello world\n"
     ]
    }
   ],
   "source": [
    "# strip function\n",
    "str12= \"   hello world   \"\n",
    "print(str12)\n",
    "print(str12.strip())\n"
   ]
  },
  {
   "cell_type": "markdown",
   "id": "69a79ad2",
   "metadata": {},
   "source": [
    "## conditional statements"
   ]
  },
  {
   "cell_type": "markdown",
   "id": "2fbc0599",
   "metadata": {},
   "source": [
    "### Relational operators\n",
    "### <,>,<=,>=,==,!="
   ]
  },
  {
   "cell_type": "code",
   "execution_count": 12,
   "id": "10416fd4",
   "metadata": {},
   "outputs": [
    {
     "name": "stdout",
     "output_type": "stream",
     "text": [
      "a greaterthan b: False\n",
      "a less than b True\n",
      "a equal b False\n"
     ]
    }
   ],
   "source": [
    "a=10\n",
    "b=20\n",
    "print('a greaterthan b:',a>b)\n",
    "print(\"a less than b\", a<b)\n",
    "print(\"a equal b\",a==b)"
   ]
  },
  {
   "cell_type": "markdown",
   "id": "95122d80",
   "metadata": {},
   "source": [
    "# logical operators and,or,not"
   ]
  },
  {
   "cell_type": "code",
   "execution_count": 5,
   "id": "653d7e27",
   "metadata": {},
   "outputs": [
    {
     "name": "stdout",
     "output_type": "stream",
     "text": [
      "True\n",
      "False\n",
      "True\n"
     ]
    }
   ],
   "source": [
    "a= 10\n",
    "b=20\n",
    "c=30\n",
    "print(a>b or a<b)\n",
    "print(a<b and a>c)\n",
    "print(not(a>b))"
   ]
  },
  {
   "cell_type": "code",
   "execution_count": 9,
   "id": "29bde5c7",
   "metadata": {},
   "outputs": [
    {
     "name": "stdout",
     "output_type": "stream",
     "text": [
      "Enter an intiger:3\n",
      "3 is possitive\n",
      "program completed\n"
     ]
    }
   ],
   "source": [
    "# check whether a number possitive or -ve\n",
    "\n",
    "x = int(input('Enter an intiger:'))\n",
    "if x > 0:\n",
    "    print(x,'is possitive')\n",
    "    print(\"program completed\")\n",
    "if x < 0:\n",
    "    print(x,'is negative')\n",
    "    print(\"program completed\")"
   ]
  },
  {
   "cell_type": "code",
   "execution_count": 7,
   "id": "cdfc75aa",
   "metadata": {},
   "outputs": [
    {
     "name": "stdout",
     "output_type": "stream",
     "text": [
      "Enter a non zero intiger:-3\n",
      "-3 is negative\n",
      "program completed\n"
     ]
    }
   ],
   "source": [
    "x = int(input('Enter a non zero intiger:'))\n",
    "if x > 0:\n",
    "    print(x,'is possitive')\n",
    "    print(\"program completed\")\n",
    "else:\n",
    "    print(x,'is negative')\n",
    "    print('program completed')"
   ]
  },
  {
   "cell_type": "code",
   "execution_count": 14,
   "id": "5d2d3875",
   "metadata": {},
   "outputs": [
    {
     "name": "stdout",
     "output_type": "stream",
     "text": [
      "Enter a posstive intiger: 55\n",
      "55 is odd\n"
     ]
    }
   ],
   "source": [
    "# check even or odd\n",
    "y=int(input(\"Enter a posstive intiger: \"))\n",
    "if y % 2 == 0:\n",
    "    print(y,\"is even number\")\n",
    "else:\n",
    "    print(y,'is odd')\n",
    "    "
   ]
  },
  {
   "cell_type": "code",
   "execution_count": null,
   "id": "d7780ec4",
   "metadata": {},
   "outputs": [],
   "source": []
  }
 ],
 "metadata": {
  "kernelspec": {
   "display_name": "Python 3 (ipykernel)",
   "language": "python",
   "name": "python3"
  },
  "language_info": {
   "codemirror_mode": {
    "name": "ipython",
    "version": 3
   },
   "file_extension": ".py",
   "mimetype": "text/x-python",
   "name": "python",
   "nbconvert_exporter": "python",
   "pygments_lexer": "ipython3",
   "version": "3.9.12"
  }
 },
 "nbformat": 4,
 "nbformat_minor": 5
}
